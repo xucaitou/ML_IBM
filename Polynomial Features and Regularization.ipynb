{
 "cells": [
  {
   "cell_type": "markdown",
   "metadata": {},
   "source": [
    "# Machine Learning Foundation\n",
    "\n",
    "## Section 2, Part d:  Regularization and Gradient Descent"
   ]
  },
  {
   "cell_type": "markdown",
   "metadata": {},
   "source": [
    "## Introduction\n",
    "\n",
    "We will begin with a short tutorial on regression, polynomial features, and regularization based on a very simple, sparse data set that contains a column of `x` data and associated `y` noisy data. The data file is called `X_Y_Sinusoid_Data.csv`. "
   ]
  },
  {
   "cell_type": "code",
   "execution_count": 1,
   "metadata": {},
   "outputs": [],
   "source": [
    "import os\n",
    "data_path = ['data']"
   ]
  },
  {
   "cell_type": "code",
   "execution_count": 2,
   "metadata": {},
   "outputs": [
    {
     "data": {
      "text/html": [
       "<div>\n",
       "<style scoped>\n",
       "    .dataframe tbody tr th:only-of-type {\n",
       "        vertical-align: middle;\n",
       "    }\n",
       "\n",
       "    .dataframe tbody tr th {\n",
       "        vertical-align: top;\n",
       "    }\n",
       "\n",
       "    .dataframe thead th {\n",
       "        text-align: right;\n",
       "    }\n",
       "</style>\n",
       "<table border=\"1\" class=\"dataframe\">\n",
       "  <thead>\n",
       "    <tr style=\"text-align: right;\">\n",
       "      <th></th>\n",
       "      <th>x</th>\n",
       "      <th>y</th>\n",
       "    </tr>\n",
       "  </thead>\n",
       "  <tbody>\n",
       "    <tr>\n",
       "      <th>0</th>\n",
       "      <td>0.038571</td>\n",
       "      <td>0.066391</td>\n",
       "    </tr>\n",
       "    <tr>\n",
       "      <th>1</th>\n",
       "      <td>0.166776</td>\n",
       "      <td>1.027483</td>\n",
       "    </tr>\n",
       "    <tr>\n",
       "      <th>2</th>\n",
       "      <td>0.183153</td>\n",
       "      <td>1.245302</td>\n",
       "    </tr>\n",
       "    <tr>\n",
       "      <th>3</th>\n",
       "      <td>0.187359</td>\n",
       "      <td>1.004781</td>\n",
       "    </tr>\n",
       "    <tr>\n",
       "      <th>4</th>\n",
       "      <td>0.243116</td>\n",
       "      <td>1.264121</td>\n",
       "    </tr>\n",
       "  </tbody>\n",
       "</table>\n",
       "</div>"
      ],
      "text/plain": [
       "          x         y\n",
       "0  0.038571  0.066391\n",
       "1  0.166776  1.027483\n",
       "2  0.183153  1.245302\n",
       "3  0.187359  1.004781\n",
       "4  0.243116  1.264121"
      ]
     },
     "execution_count": 2,
     "metadata": {},
     "output_type": "execute_result"
    }
   ],
   "source": [
    "\n",
    "import os, types\n",
    "import pandas as pd\n",
    "from botocore.client import Config\n",
    "import ibm_boto3\n",
    "\n",
    "def __iter__(self): return 0\n",
    "\n",
    "# @hidden_cell\n",
    "# The following code accesses a file in your IBM Cloud Object Storage. It includes your credentials.\n",
    "# You might want to remove those credentials before you share the notebook.\n",
    "\n",
    "if os.environ.get('RUNTIME_ENV_LOCATION_TYPE') == 'external':\n",
    "    endpoint_d087d96c863442aa8633664452e5dbb6 = 'https://s3-api.us-geo.objectstorage.softlayer.net'\n",
    "else:\n",
    "    endpoint_d087d96c863442aa8633664452e5dbb6 = 'https://s3-api.us-geo.objectstorage.service.networklayer.com'\n",
    "\n",
    "client_d087d96c863442aa8633664452e5dbb6 = ibm_boto3.client(service_name='s3',\n",
    "    ibm_api_key_id='dikC1GoA5GJ8kZIk304J_gq-UZjkWViQOTmHNeR3MpPQ',\n",
    "    ibm_auth_endpoint=\"https://iam.cloud.ibm.com/oidc/token\",\n",
    "    config=Config(signature_version='oauth'),\n",
    "    endpoint_url=endpoint_d087d96c863442aa8633664452e5dbb6)\n",
    "\n",
    "body = client_d087d96c863442aa8633664452e5dbb6.get_object(Bucket='echox27project-donotdelete-pr-nwla3qhaaiezfq',Key='28ezihaGSnuHs4oWhnp7XQ_f6106fe85b834e42901c9a64e1cf8f4d_X_Y_Sinusoid_Data.csv')['Body']\n",
    "# add missing __iter__ method, so pandas accepts body as file-like object\n",
    "if not hasattr(body, \"__iter__\"): body.__iter__ = types.MethodType( __iter__, body )\n",
    "\n",
    "data = pd.read_csv(body)\n",
    "data.head()"
   ]
  },
  {
   "cell_type": "markdown",
   "metadata": {
    "run_control": {
     "marked": true
    }
   },
   "source": [
    "## Question 1\n",
    "\n",
    "* Import the data. \n",
    "\n",
    "* Also generate approximately 100 equally spaced x data points over the range of 0 to 1. Using these points, calculate the y-data which represents the \"ground truth\" (the real function) from the equation: $y = sin(2\\pi x)$\n",
    "\n",
    "* Plot the sparse data (`x` vs `y`) and the calculated (\"real\") data.\n"
   ]
  },
  {
   "cell_type": "code",
   "execution_count": 3,
   "metadata": {
    "jupyter": {
     "outputs_hidden": false
    }
   },
   "outputs": [],
   "source": [
    "import pandas as pd\n",
    "import numpy as np\n",
    "\n",
    "# filepath = os.sep.join(data_path + ['X_Y_Sinusoid_Data.csv'])\n",
    "# data = pd.read_csv(filepath)\n",
    "\n",
    "X_real = np.linspace(0, 1.0, 100)\n",
    "Y_real = np.sin(2 * np.pi * X_real)"
   ]
  },
  {
   "cell_type": "code",
   "execution_count": 4,
   "metadata": {
    "ExecuteTime": {
     "end_time": "2017-03-10T19:32:58.021116Z",
     "start_time": "2017-03-10T14:32:58.015025-05:00"
    }
   },
   "outputs": [],
   "source": [
    "import matplotlib.pyplot as plt\n",
    "import seaborn as sns\n",
    "\n",
    "%matplotlib inline"
   ]
  },
  {
   "cell_type": "code",
   "execution_count": 5,
   "metadata": {
    "ExecuteTime": {
     "end_time": "2017-03-10T19:32:58.921638Z",
     "start_time": "2017-03-10T14:32:58.668630-05:00"
    },
    "jupyter": {
     "outputs_hidden": false
    }
   },
   "outputs": [
    {
     "data": {
      "image/png": "[encoded data removed]",
      "text/plain": [
       "<Figure size 432x288 with 1 Axes>"
      ]
     },
     "metadata": {},
     "output_type": "display_data"
    }
   ],
   "source": [
    "sns.set_style('white')\n",
    "sns.set_context('talk')\n",
    "sns.set_palette('dark')\n",
    "\n",
    "# Plot of the noisy (sparse)\n",
    "ax = data.set_index('x')['y'].plot(ls='', marker='o', label='data')\n",
    "ax.plot(X_real, Y_real, ls='--', marker='', label='real function')\n",
    "\n",
    "ax.legend()\n",
    "ax.set(xlabel='x data', ylabel='y data');\n"
   ]
  },
  {
   "cell_type": "markdown",
   "metadata": {},
   "source": [
    "## Question 2\n",
    "\n",
    "\n",
    "* Using the `PolynomialFeatures` class from Scikit-learn's preprocessing library, create 20th order polynomial features.\n",
    "* Fit this data using linear regression. \n",
    "* Plot the resulting predicted value compared to the calculated data.\n",
    "\n",
    "Note that `PolynomialFeatures` requires either a dataframe (with one column, not a Series) or a 2D array of dimension (`X`, 1), where `X` is the length."
   ]
  },
  {
   "cell_type": "code",
   "execution_count": 6,
   "metadata": {
    "ExecuteTime": {
     "end_time": "2017-03-10T19:57:23.344020Z",
     "start_time": "2017-03-10T14:57:23.057905-05:00"
    },
    "jupyter": {
     "outputs_hidden": false
    }
   },
   "outputs": [
    {
     "data": {
      "image/png": "[encoded data removed]",
      "text/plain": [
       "<Figure size 432x288 with 1 Axes>"
      ]
     },
     "metadata": {},
     "output_type": "display_data"
    }
   ],
   "source": [
    "from sklearn.preprocessing import PolynomialFeatures\n",
    "from sklearn.linear_model import LinearRegression\n",
    "\n",
    "# Setup the polynomial features\n",
    "degree = 20\n",
    "pf = PolynomialFeatures(degree)\n",
    "lr = LinearRegression()\n",
    "\n",
    "# Extract the X- and Y- data from the dataframe \n",
    "X_data = data[['x']]\n",
    "Y_data = data['y']\n",
    "\n",
    "# Create the features and fit the model\n",
    "X_poly = pf.fit_transform(X_data)\n",
    "lr = lr.fit(X_poly, Y_data)\n",
    "Y_pred = lr.predict(X_poly)\n",
    "\n",
    "# Plot the result\n",
    "plt.plot(X_data, Y_data, marker='o', ls='', label='data', alpha=1)\n",
    "plt.plot(X_real, Y_real, ls='--', label='real function')\n",
    "plt.plot(X_data, Y_pred, marker='^', alpha=.5, label='predictions w/ polynomial features')\n",
    "plt.legend()\n",
    "ax = plt.gca()\n",
    "ax.set(xlabel='x data', ylabel='y data');\n"
   ]
  },
  {
   "cell_type": "markdown",
   "metadata": {},
   "source": [
    "## Question 3\n",
    "\n",
    "* Perform the regression on using the data with polynomial features using ridge regression ($\\alpha$=0.001) and lasso regression ($\\alpha$=0.0001). \n",
    "* Plot the results, as was done in Question 1. \n",
    "* Also plot the magnitude of the coefficients obtained from these regressions, and compare them to those obtained from linear regression in the previous question. The linear regression coefficients will likely need a separate plot (or their own y-axis) due to their large magnitude. \n",
    "\n",
    "What does the comparatively large magnitude of the data tell you about the role of regularization?"
   ]
  },
  {
   "cell_type": "code",
   "execution_count": 7,
   "metadata": {
    "ExecuteTime": {
     "end_time": "2017-03-10T20:11:47.526408Z",
     "start_time": "2017-03-10T15:11:47.216623-05:00"
    },
    "jupyter": {
     "outputs_hidden": false
    }
   },
   "outputs": [
    {
     "data": {
      "image/png": "[encoded data removed]",
      "text/plain": [
       "<Figure size 432x288 with 1 Axes>"
      ]
     },
     "metadata": {},
     "output_type": "display_data"
    }
   ],
   "source": [
    "# Mute the sklearn warning about regularization\n",
    "import warnings\n",
    "warnings.filterwarnings('ignore', module='sklearn')\n",
    "\n",
    "from sklearn.linear_model import Ridge, Lasso\n",
    "\n",
    "# The ridge regression model\n",
    "rr = Ridge(alpha=0.001)\n",
    "rr = rr.fit(X_poly, Y_data)\n",
    "Y_pred_rr = rr.predict(X_poly)\n",
    "\n",
    "# The lasso regression model\n",
    "lassor = Lasso(alpha=0.0001)\n",
    "lassor = lassor.fit(X_poly, Y_data)\n",
    "Y_pred_lr = lassor.predict(X_poly)\n",
    "\n",
    "# The plot of the predicted values\n",
    "plt.plot(X_data, Y_data, marker='o', ls='', label='data')\n",
    "plt.plot(X_real, Y_real, ls='--', label='real function')\n",
    "plt.plot(X_data, Y_pred, label='linear regression', marker='^', alpha=.5)\n",
    "plt.plot(X_data, Y_pred_rr, label='ridge regression', marker='^', alpha=.5)\n",
    "plt.plot(X_data, Y_pred_lr, label='lasso regression', marker='^', alpha=.5)\n",
    "\n",
    "plt.legend()\n",
    "\n",
    "ax = plt.gca()\n",
    "ax.set(xlabel='x data', ylabel='y data');"
   ]
  },
  {
   "cell_type": "code",
   "execution_count": 8,
   "metadata": {
    "jupyter": {
     "outputs_hidden": false
    }
   },
   "outputs": [
    {
     "data": {
      "text/html": [
       "<div>\n",
       "<style scoped>\n",
       "    .dataframe tbody tr th:only-of-type {\n",
       "        vertical-align: middle;\n",
       "    }\n",
       "\n",
       "    .dataframe tbody tr th {\n",
       "        vertical-align: top;\n",
       "    }\n",
       "\n",
       "    .dataframe thead th {\n",
       "        text-align: right;\n",
       "    }\n",
       "</style>\n",
       "<table border=\"1\" class=\"dataframe\">\n",
       "  <thead>\n",
       "    <tr style=\"text-align: right;\">\n",
       "      <th></th>\n",
       "      <th>linear regression</th>\n",
       "      <th>ridge regression</th>\n",
       "      <th>lasso regression</th>\n",
       "    </tr>\n",
       "  </thead>\n",
       "  <tbody>\n",
       "    <tr>\n",
       "      <th>count</th>\n",
       "      <td>2.100000e+01</td>\n",
       "      <td>21.000000</td>\n",
       "      <td>21.000000</td>\n",
       "    </tr>\n",
       "    <tr>\n",
       "      <th>mean</th>\n",
       "      <td>5.777551e+13</td>\n",
       "      <td>2.169397</td>\n",
       "      <td>2.167284</td>\n",
       "    </tr>\n",
       "    <tr>\n",
       "      <th>std</th>\n",
       "      <td>6.031941e+13</td>\n",
       "      <td>2.900278</td>\n",
       "      <td>4.706731</td>\n",
       "    </tr>\n",
       "    <tr>\n",
       "      <th>min</th>\n",
       "      <td>1.619371e+07</td>\n",
       "      <td>0.000000</td>\n",
       "      <td>0.000000</td>\n",
       "    </tr>\n",
       "    <tr>\n",
       "      <th>25%</th>\n",
       "      <td>3.416390e+12</td>\n",
       "      <td>0.467578</td>\n",
       "      <td>0.000000</td>\n",
       "    </tr>\n",
       "    <tr>\n",
       "      <th>50%</th>\n",
       "      <td>3.621188e+13</td>\n",
       "      <td>1.017272</td>\n",
       "      <td>0.252181</td>\n",
       "    </tr>\n",
       "    <tr>\n",
       "      <th>75%</th>\n",
       "      <td>1.070540e+14</td>\n",
       "      <td>2.883507</td>\n",
       "      <td>1.641353</td>\n",
       "    </tr>\n",
       "    <tr>\n",
       "      <th>max</th>\n",
       "      <td>1.655347e+14</td>\n",
       "      <td>12.429635</td>\n",
       "      <td>20.176708</td>\n",
       "    </tr>\n",
       "  </tbody>\n",
       "</table>\n",
       "</div>"
      ],
      "text/plain": [
       "       linear regression  ridge regression  lasso regression\n",
       "count       2.100000e+01         21.000000         21.000000\n",
       "mean        5.777551e+13          2.169397          2.167284\n",
       "std         6.031941e+13          2.900278          4.706731\n",
       "min         1.619371e+07          0.000000          0.000000\n",
       "25%         3.416390e+12          0.467578          0.000000\n",
       "50%         3.621188e+13          1.017272          0.252181\n",
       "75%         1.070540e+14          2.883507          1.641353\n",
       "max         1.655347e+14         12.429635         20.176708"
      ]
     },
     "execution_count": 8,
     "metadata": {},
     "output_type": "execute_result"
    }
   ],
   "source": [
    "# let's look at the absolute value of coefficients for each model\n",
    "\n",
    "coefficients = pd.DataFrame()\n",
    "coefficients['linear regression'] = lr.coef_.ravel()\n",
    "coefficients['ridge regression'] = rr.coef_.ravel()\n",
    "coefficients['lasso regression'] = lassor.coef_.ravel()\n",
    "coefficients = coefficients.applymap(abs)\n",
    "\n",
    "coefficients.describe()  # Huge difference in scale between non-regularized vs regularized regression"
   ]
  },
  {
   "cell_type": "code",
   "execution_count": 9,
   "metadata": {
    "ExecuteTime": {
     "end_time": "2017-03-10T20:39:37.722464Z",
     "start_time": "2017-03-10T15:39:37.347911-05:00"
    },
    "jupyter": {
     "outputs_hidden": false
    }
   },
   "outputs": [
    {
     "data": {
      "image/png": "[encoded data removed]",
      "text/plain": [
       "<Figure size 432x288 with 2 Axes>"
      ]
     },
     "metadata": {},
     "output_type": "display_data"
    }
   ],
   "source": [
    "colors = sns.color_palette()\n",
    "\n",
    "# Setup the dual y-axes\n",
    "ax1 = plt.axes()\n",
    "ax2 = ax1.twinx()\n",
    "\n",
    "# Plot the linear regression data\n",
    "ax1.plot(lr.coef_.ravel(), \n",
    "         color=colors[0], marker='o', label='linear regression')\n",
    "\n",
    "# Plot the regularization data sets\n",
    "ax2.plot(rr.coef_.ravel(), \n",
    "         color=colors[1], marker='o', label='ridge regression')\n",
    "\n",
    "ax2.plot(lassor.coef_.ravel(), \n",
    "         color=colors[2], marker='o', label='lasso regression')\n",
    "\n",
    "# Customize axes scales\n",
    "ax1.set_ylim(-2e14, 2e14)\n",
    "ax2.set_ylim(-25, 25)\n",
    "\n",
    "# Combine the legends\n",
    "h1, l1 = ax1.get_legend_handles_labels()\n",
    "h2, l2 = ax2.get_legend_handles_labels()\n",
    "ax1.legend(h1+h2, l1+l2)\n",
    "\n",
    "ax1.set(xlabel='coefficients',ylabel='linear regression')\n",
    "ax2.set(ylabel='ridge and lasso regression')\n",
    "\n",
    "ax1.set_xticks(range(len(lr.coef_)));"
   ]
  },
  {
   "cell_type": "markdown",
   "metadata": {},
   "source": [
    "## Question 4\n",
    "\n",
    "For the remaining questions, we will be working with the [data set](https://www.kaggle.com/c/house-prices-advanced-regression-techniques) from last lesson, which is based on housing prices in Ames, Iowa. There are an extensive number of features--see the exercises from week three for a discussion of these features.\n",
    "\n",
    "To begin:\n",
    "\n",
    "* Import the data with Pandas, remove any null values, and one hot encode categoricals. Either Scikit-learn's feature encoders or Pandas `get_dummies` method can be used.\n",
    "* Split the data into train and test sets. \n",
    "* Log transform skewed features. \n",
    "* Scaling can be attempted, although it can be interesting to see how well regularization works without scaling features."
   ]
  },
  {
   "cell_type": "code",
   "execution_count": 11,
   "metadata": {},
   "outputs": [
    {
     "data": {
      "text/html": [
       "<div>\n",
       "<style scoped>\n",
       "    .dataframe tbody tr th:only-of-type {\n",
       "        vertical-align: middle;\n",
       "    }\n",
       "\n",
       "    .dataframe tbody tr th {\n",
       "        vertical-align: top;\n",
       "    }\n",
       "\n",
       "    .dataframe thead th {\n",
       "        text-align: right;\n",
       "    }\n",
       "</style>\n",
       "<table border=\"1\" class=\"dataframe\">\n",
       "  <thead>\n",
       "    <tr style=\"text-align: right;\">\n",
       "      <th></th>\n",
       "      <th>1stFlrSF</th>\n",
       "      <th>2ndFlrSF</th>\n",
       "      <th>3SsnPorch</th>\n",
       "      <th>Alley</th>\n",
       "      <th>BedroomAbvGr</th>\n",
       "      <th>BldgType</th>\n",
       "      <th>BsmtCond</th>\n",
       "      <th>BsmtExposure</th>\n",
       "      <th>BsmtFinSF1</th>\n",
       "      <th>BsmtFinSF2</th>\n",
       "      <th>...</th>\n",
       "      <th>ScreenPorch</th>\n",
       "      <th>Street</th>\n",
       "      <th>TotRmsAbvGrd</th>\n",
       "      <th>TotalBsmtSF</th>\n",
       "      <th>Utilities</th>\n",
       "      <th>WoodDeckSF</th>\n",
       "      <th>YearBuilt</th>\n",
       "      <th>YearRemodAdd</th>\n",
       "      <th>YrSold</th>\n",
       "      <th>SalePrice</th>\n",
       "    </tr>\n",
       "  </thead>\n",
       "  <tbody>\n",
       "    <tr>\n",
       "      <th>0</th>\n",
       "      <td>856.0</td>\n",
       "      <td>854.0</td>\n",
       "      <td>0.0</td>\n",
       "      <td>None</td>\n",
       "      <td>3</td>\n",
       "      <td>1Fam</td>\n",
       "      <td>TA</td>\n",
       "      <td>No</td>\n",
       "      <td>706.0</td>\n",
       "      <td>0.0</td>\n",
       "      <td>...</td>\n",
       "      <td>0.0</td>\n",
       "      <td>Pave</td>\n",
       "      <td>8</td>\n",
       "      <td>856.0</td>\n",
       "      <td>AllPub</td>\n",
       "      <td>0.0</td>\n",
       "      <td>2003</td>\n",
       "      <td>2003</td>\n",
       "      <td>2008</td>\n",
       "      <td>208500.0</td>\n",
       "    </tr>\n",
       "    <tr>\n",
       "      <th>1</th>\n",
       "      <td>1262.0</td>\n",
       "      <td>0.0</td>\n",
       "      <td>0.0</td>\n",
       "      <td>None</td>\n",
       "      <td>3</td>\n",
       "      <td>1Fam</td>\n",
       "      <td>TA</td>\n",
       "      <td>Gd</td>\n",
       "      <td>978.0</td>\n",
       "      <td>0.0</td>\n",
       "      <td>...</td>\n",
       "      <td>0.0</td>\n",
       "      <td>Pave</td>\n",
       "      <td>6</td>\n",
       "      <td>1262.0</td>\n",
       "      <td>AllPub</td>\n",
       "      <td>298.0</td>\n",
       "      <td>1976</td>\n",
       "      <td>1976</td>\n",
       "      <td>2007</td>\n",
       "      <td>181500.0</td>\n",
       "    </tr>\n",
       "    <tr>\n",
       "      <th>2</th>\n",
       "      <td>920.0</td>\n",
       "      <td>866.0</td>\n",
       "      <td>0.0</td>\n",
       "      <td>None</td>\n",
       "      <td>3</td>\n",
       "      <td>1Fam</td>\n",
       "      <td>TA</td>\n",
       "      <td>Mn</td>\n",
       "      <td>486.0</td>\n",
       "      <td>0.0</td>\n",
       "      <td>...</td>\n",
       "      <td>0.0</td>\n",
       "      <td>Pave</td>\n",
       "      <td>6</td>\n",
       "      <td>920.0</td>\n",
       "      <td>AllPub</td>\n",
       "      <td>0.0</td>\n",
       "      <td>2001</td>\n",
       "      <td>2002</td>\n",
       "      <td>2008</td>\n",
       "      <td>223500.0</td>\n",
       "    </tr>\n",
       "    <tr>\n",
       "      <th>3</th>\n",
       "      <td>961.0</td>\n",
       "      <td>756.0</td>\n",
       "      <td>0.0</td>\n",
       "      <td>None</td>\n",
       "      <td>3</td>\n",
       "      <td>1Fam</td>\n",
       "      <td>Gd</td>\n",
       "      <td>No</td>\n",
       "      <td>216.0</td>\n",
       "      <td>0.0</td>\n",
       "      <td>...</td>\n",
       "      <td>0.0</td>\n",
       "      <td>Pave</td>\n",
       "      <td>7</td>\n",
       "      <td>756.0</td>\n",
       "      <td>AllPub</td>\n",
       "      <td>0.0</td>\n",
       "      <td>1915</td>\n",
       "      <td>1970</td>\n",
       "      <td>2006</td>\n",
       "      <td>140000.0</td>\n",
       "    </tr>\n",
       "    <tr>\n",
       "      <th>4</th>\n",
       "      <td>1145.0</td>\n",
       "      <td>1053.0</td>\n",
       "      <td>0.0</td>\n",
       "      <td>None</td>\n",
       "      <td>4</td>\n",
       "      <td>1Fam</td>\n",
       "      <td>TA</td>\n",
       "      <td>Av</td>\n",
       "      <td>655.0</td>\n",
       "      <td>0.0</td>\n",
       "      <td>...</td>\n",
       "      <td>0.0</td>\n",
       "      <td>Pave</td>\n",
       "      <td>9</td>\n",
       "      <td>1145.0</td>\n",
       "      <td>AllPub</td>\n",
       "      <td>192.0</td>\n",
       "      <td>2000</td>\n",
       "      <td>2000</td>\n",
       "      <td>2008</td>\n",
       "      <td>250000.0</td>\n",
       "    </tr>\n",
       "  </tbody>\n",
       "</table>\n",
       "<p>5 rows × 80 columns</p>\n",
       "</div>"
      ],
      "text/plain": [
       "   1stFlrSF  2ndFlrSF  3SsnPorch Alley  BedroomAbvGr BldgType BsmtCond  \\\n",
       "0     856.0     854.0        0.0  None             3     1Fam       TA   \n",
       "1    1262.0       0.0        0.0  None             3     1Fam       TA   \n",
       "2     920.0     866.0        0.0  None             3     1Fam       TA   \n",
       "3     961.0     756.0        0.0  None             3     1Fam       Gd   \n",
       "4    1145.0    1053.0        0.0  None             4     1Fam       TA   \n",
       "\n",
       "  BsmtExposure  BsmtFinSF1  BsmtFinSF2  ... ScreenPorch Street  TotRmsAbvGrd  \\\n",
       "0           No       706.0         0.0  ...         0.0   Pave             8   \n",
       "1           Gd       978.0         0.0  ...         0.0   Pave             6   \n",
       "2           Mn       486.0         0.0  ...         0.0   Pave             6   \n",
       "3           No       216.0         0.0  ...         0.0   Pave             7   \n",
       "4           Av       655.0         0.0  ...         0.0   Pave             9   \n",
       "\n",
       "   TotalBsmtSF Utilities  WoodDeckSF YearBuilt YearRemodAdd YrSold SalePrice  \n",
       "0        856.0    AllPub         0.0      2003         2003   2008  208500.0  \n",
       "1       1262.0    AllPub       298.0      1976         1976   2007  181500.0  \n",
       "2        920.0    AllPub         0.0      2001         2002   2008  223500.0  \n",
       "3        756.0    AllPub         0.0      1915         1970   2006  140000.0  \n",
       "4       1145.0    AllPub       192.0      2000         2000   2008  250000.0  \n",
       "\n",
       "[5 rows x 80 columns]"
      ]
     },
     "execution_count": 11,
     "metadata": {},
     "output_type": "execute_result"
    }
   ],
   "source": [
    "\n",
    "body = client_d087d96c863442aa8633664452e5dbb6.get_object(Bucket='echox27project-donotdelete-pr-nwla3qhaaiezfq',Key='KEh0FlFxQOuIdBZRcXDrwA_0dde15d9a6514d0e8a0fa13c41b9e1d7_Ames_Housing_Sales.csv')['Body']\n",
    "# add missing __iter__ method, so pandas accepts body as file-like object\n",
    "if not hasattr(body, \"__iter__\"): body.__iter__ = types.MethodType( __iter__, body )\n",
    "\n",
    "data = pd.read_csv(body)\n",
    "data.head()\n"
   ]
  },
  {
   "cell_type": "markdown",
   "metadata": {
    "ExecuteTime": {
     "end_time": "2017-03-10T02:40:49.956043Z",
     "start_time": "2017-03-09T21:40:49.950878-05:00"
    }
   },
   "source": [
    "Create a list of categorial data and one-hot encode. Pandas one-hot encoder (`get_dummies`) works well with data that is defined as a categorical."
   ]
  },
  {
   "cell_type": "code",
   "execution_count": 12,
   "metadata": {
    "ExecuteTime": {
     "end_time": "2017-03-10T17:01:05.304547Z",
     "start_time": "2017-03-10T12:01:05.231567-05:00"
    },
    "jupyter": {
     "outputs_hidden": false
    }
   },
   "outputs": [],
   "source": [
    "# Get a Pd.Series consisting of all the string categoricals\n",
    "one_hot_encode_cols = data.dtypes[data.dtypes == np.object]  # filtering by string categoricals\n",
    "one_hot_encode_cols = one_hot_encode_cols.index.tolist()  # list of categorical fields\n",
    "\n",
    "# Here we see another way of one-hot-encoding:\n",
    "# Encode these columns as categoricals so one hot encoding works on split data (if desired)\n",
    "for col in one_hot_encode_cols:\n",
    "    data[col] = pd.Categorical(data[col])\n",
    "\n",
    "# Do the one hot encoding\n",
    "data = pd.get_dummies(data, columns=one_hot_encode_cols)"
   ]
  },
  {
   "cell_type": "markdown",
   "metadata": {},
   "source": [
    "Next, split the data in train and test data sets."
   ]
  },
  {
   "cell_type": "code",
   "execution_count": 13,
   "metadata": {
    "ExecuteTime": {
     "end_time": "2017-03-10T17:01:06.260979Z",
     "start_time": "2017-03-10T12:01:06.244259-05:00"
    }
   },
   "outputs": [],
   "source": [
    "from sklearn.model_selection import train_test_split\n",
    "\n",
    "train, test = train_test_split(data, test_size=0.3, random_state=42)"
   ]
  },
  {
   "cell_type": "markdown",
   "metadata": {},
   "source": [
    "There are a number of columns that have skewed features--a log transformation can be applied to them. Note that this includes the `SalePrice`, our predictor. However, let's keep that one as is."
   ]
  },
  {
   "cell_type": "code",
   "execution_count": 14,
   "metadata": {},
   "outputs": [],
   "source": [
    "# Create a list of float colums to check for skewing\n",
    "mask = data.dtypes == np.float\n",
    "float_cols = data.columns[mask]"
   ]
  },
  {
   "cell_type": "code",
   "execution_count": 15,
   "metadata": {
    "ExecuteTime": {
     "end_time": "2017-03-10T17:01:10.689590Z",
     "start_time": "2017-03-10T12:01:10.609841-05:00"
    },
    "jupyter": {
     "outputs_hidden": false
    }
   },
   "outputs": [
    {
     "data": {
      "text/html": [
       "<div>\n",
       "<style scoped>\n",
       "    .dataframe tbody tr th:only-of-type {\n",
       "        vertical-align: middle;\n",
       "    }\n",
       "\n",
       "    .dataframe tbody tr th {\n",
       "        vertical-align: top;\n",
       "    }\n",
       "\n",
       "    .dataframe thead th {\n",
       "        text-align: right;\n",
       "    }\n",
       "</style>\n",
       "<table border=\"1\" class=\"dataframe\">\n",
       "  <thead>\n",
       "    <tr style=\"text-align: right;\">\n",
       "      <th></th>\n",
       "      <th>Skew</th>\n",
       "    </tr>\n",
       "  </thead>\n",
       "  <tbody>\n",
       "    <tr>\n",
       "      <th>MiscVal</th>\n",
       "      <td>26.915364</td>\n",
       "    </tr>\n",
       "    <tr>\n",
       "      <th>PoolArea</th>\n",
       "      <td>15.777668</td>\n",
       "    </tr>\n",
       "    <tr>\n",
       "      <th>LotArea</th>\n",
       "      <td>11.501694</td>\n",
       "    </tr>\n",
       "    <tr>\n",
       "      <th>LowQualFinSF</th>\n",
       "      <td>11.210638</td>\n",
       "    </tr>\n",
       "    <tr>\n",
       "      <th>3SsnPorch</th>\n",
       "      <td>10.150612</td>\n",
       "    </tr>\n",
       "    <tr>\n",
       "      <th>ScreenPorch</th>\n",
       "      <td>4.599803</td>\n",
       "    </tr>\n",
       "    <tr>\n",
       "      <th>BsmtFinSF2</th>\n",
       "      <td>4.466378</td>\n",
       "    </tr>\n",
       "    <tr>\n",
       "      <th>EnclosedPorch</th>\n",
       "      <td>3.218303</td>\n",
       "    </tr>\n",
       "    <tr>\n",
       "      <th>LotFrontage</th>\n",
       "      <td>3.138032</td>\n",
       "    </tr>\n",
       "    <tr>\n",
       "      <th>MasVnrArea</th>\n",
       "      <td>2.492814</td>\n",
       "    </tr>\n",
       "    <tr>\n",
       "      <th>OpenPorchSF</th>\n",
       "      <td>2.295489</td>\n",
       "    </tr>\n",
       "    <tr>\n",
       "      <th>SalePrice</th>\n",
       "      <td>2.106910</td>\n",
       "    </tr>\n",
       "    <tr>\n",
       "      <th>BsmtFinSF1</th>\n",
       "      <td>2.010766</td>\n",
       "    </tr>\n",
       "    <tr>\n",
       "      <th>TotalBsmtSF</th>\n",
       "      <td>1.979164</td>\n",
       "    </tr>\n",
       "    <tr>\n",
       "      <th>1stFlrSF</th>\n",
       "      <td>1.539692</td>\n",
       "    </tr>\n",
       "    <tr>\n",
       "      <th>GrLivArea</th>\n",
       "      <td>1.455564</td>\n",
       "    </tr>\n",
       "    <tr>\n",
       "      <th>WoodDeckSF</th>\n",
       "      <td>1.334388</td>\n",
       "    </tr>\n",
       "    <tr>\n",
       "      <th>BsmtUnfSF</th>\n",
       "      <td>0.900308</td>\n",
       "    </tr>\n",
       "    <tr>\n",
       "      <th>GarageArea</th>\n",
       "      <td>0.838422</td>\n",
       "    </tr>\n",
       "    <tr>\n",
       "      <th>2ndFlrSF</th>\n",
       "      <td>0.773655</td>\n",
       "    </tr>\n",
       "  </tbody>\n",
       "</table>\n",
       "</div>"
      ],
      "text/plain": [
       "                    Skew\n",
       "MiscVal        26.915364\n",
       "PoolArea       15.777668\n",
       "LotArea        11.501694\n",
       "LowQualFinSF   11.210638\n",
       "3SsnPorch      10.150612\n",
       "ScreenPorch     4.599803\n",
       "BsmtFinSF2      4.466378\n",
       "EnclosedPorch   3.218303\n",
       "LotFrontage     3.138032\n",
       "MasVnrArea      2.492814\n",
       "OpenPorchSF     2.295489\n",
       "SalePrice       2.106910\n",
       "BsmtFinSF1      2.010766\n",
       "TotalBsmtSF     1.979164\n",
       "1stFlrSF        1.539692\n",
       "GrLivArea       1.455564\n",
       "WoodDeckSF      1.334388\n",
       "BsmtUnfSF       0.900308\n",
       "GarageArea      0.838422\n",
       "2ndFlrSF        0.773655"
      ]
     },
     "execution_count": 15,
     "metadata": {},
     "output_type": "execute_result"
    }
   ],
   "source": [
    "skew_limit = 0.75\n",
    "skew_vals = train[float_cols].skew()\n",
    "\n",
    "skew_cols = (skew_vals\n",
    "             .sort_values(ascending=False)\n",
    "             .to_frame()\n",
    "             .rename(columns={0:'Skew'})\n",
    "             .query('abs(Skew) > {0}'.format(skew_limit)))\n",
    "\n",
    "skew_cols"
   ]
  },
  {
   "cell_type": "markdown",
   "metadata": {},
   "source": [
    "Transform all the columns where the skew is greater than 0.75, excluding \"SalePrice\"."
   ]
  },
  {
   "cell_type": "code",
   "execution_count": 16,
   "metadata": {
    "jupyter": {
     "outputs_hidden": false
    }
   },
   "outputs": [
    {
     "data": {
      "image/png": "[encoded data removed]",
      "text/plain": [
       "<Figure size 720x360 with 2 Axes>"
      ]
     },
     "metadata": {},
     "output_type": "display_data"
    }
   ],
   "source": [
    "# OPTIONAL: Let's look at what happens to one of these features, when we apply np.log1p visually.\n",
    "\n",
    "field = \"BsmtFinSF1\"\n",
    "fig, (ax_before, ax_after) = plt.subplots(1, 2, figsize=(10, 5))\n",
    "train[field].hist(ax=ax_before)\n",
    "train[field].apply(np.log1p).hist(ax=ax_after)\n",
    "ax_before.set(title='before np.log1p', ylabel='frequency', xlabel='value')\n",
    "ax_after.set(title='after np.log1p', ylabel='frequency', xlabel='value')\n",
    "fig.suptitle('Field \"{}\"'.format(field));\n",
    "# a little bit better"
   ]
  },
  {
   "cell_type": "code",
   "execution_count": 17,
   "metadata": {
    "ExecuteTime": {
     "end_time": "2017-03-10T17:01:15.654621Z",
     "start_time": "2017-03-10T12:01:13.780771-05:00"
    },
    "jupyter": {
     "outputs_hidden": false
    }
   },
   "outputs": [],
   "source": [
    "# Mute the setting wtih a copy warnings\n",
    "pd.options.mode.chained_assignment = None\n",
    "\n",
    "for col in skew_cols.index.tolist():\n",
    "    if col == \"SalePrice\":\n",
    "        continue\n",
    "    train[col] = np.log1p(train[col])\n",
    "    test[col]  = test[col].apply(np.log1p)  # same thing"
   ]
  },
  {
   "cell_type": "markdown",
   "metadata": {},
   "source": [
    "Separate features from predictor."
   ]
  },
  {
   "cell_type": "code",
   "execution_count": 18,
   "metadata": {
    "ExecuteTime": {
     "end_time": "2017-03-10T17:01:21.972625Z",
     "start_time": "2017-03-10T12:01:21.957050-05:00"
    },
    "jupyter": {
     "outputs_hidden": false
    }
   },
   "outputs": [],
   "source": [
    "feature_cols = [x for x in train.columns if x != 'SalePrice']\n",
    "X_train = train[feature_cols]\n",
    "y_train = train['SalePrice']\n",
    "\n",
    "X_test  = test[feature_cols]\n",
    "y_test  = test['SalePrice']"
   ]
  },
  {
   "cell_type": "markdown",
   "metadata": {
    "ExecuteTime": {
     "end_time": "2017-02-21T09:11:03.256453",
     "start_time": "2017-02-21T09:11:03.241117"
    }
   },
   "source": [
    "## Question 5\n",
    "\n",
    "* Write a function **`rmse`** that takes in truth and prediction values and returns the root-mean-squared error. Use sklearn's `mean_squared_error`.  \n"
   ]
  },
  {
   "cell_type": "code",
   "execution_count": 19,
   "metadata": {
    "jupyter": {
     "outputs_hidden": false
    }
   },
   "outputs": [],
   "source": [
    "from sklearn.metrics import mean_squared_error\n",
    "\n",
    "\n",
    "def rmse(ytrue, ypredicted):\n",
    "    return np.sqrt(mean_squared_error(ytrue, ypredicted))"
   ]
  },
  {
   "cell_type": "markdown",
   "metadata": {},
   "source": [
    "* Fit a basic linear regression model\n",
    "* print the root-mean-squared error for this model\n",
    "* plot the predicted vs actual sale price based on the model.  "
   ]
  },
  {
   "cell_type": "code",
   "execution_count": 20,
   "metadata": {
    "jupyter": {
     "outputs_hidden": false
    }
   },
   "outputs": [
    {
     "name": "stdout",
     "output_type": "stream",
     "text": [
      "306369.68342317955\n"
     ]
    }
   ],
   "source": [
    "from sklearn.linear_model import LinearRegression\n",
    "\n",
    "linearRegression = LinearRegression().fit(X_train, y_train)\n",
    "\n",
    "linearRegression_rmse = rmse(y_test, linearRegression.predict(X_test))\n",
    "\n",
    "print(linearRegression_rmse)"
   ]
  },
  {
   "cell_type": "code",
   "execution_count": 21,
   "metadata": {
    "jupyter": {
     "outputs_hidden": false
    }
   },
   "outputs": [
    {
     "data": {
      "image/png": "[encoded data removed]",
      "text/plain": [
       "<Figure size 432x432 with 1 Axes>"
      ]
     },
     "metadata": {},
     "output_type": "display_data"
    }
   ],
   "source": [
    "f = plt.figure(figsize=(6,6))\n",
    "ax = plt.axes()\n",
    "\n",
    "ax.plot(y_test, linearRegression.predict(X_test), \n",
    "         marker='o', ls='', ms=3.0)\n",
    "\n",
    "lim = (0, y_test.max())\n",
    "\n",
    "ax.set(xlabel='Actual Price', \n",
    "       ylabel='Predicted Price', \n",
    "       xlim=lim,\n",
    "       ylim=lim,\n",
    "       title='Linear Regression Results');"
   ]
  },
  {
   "cell_type": "markdown",
   "metadata": {},
   "source": [
    "## Question 6\n",
    "\n",
    "Ridge regression uses L2 normalization to reduce the magnitude of the coefficients. This can be helpful in situations where there is high variance. The regularization functions in Scikit-learn each contain versions that have cross-validation built in.\n",
    "\n",
    "* Fit a regular (non-cross validated) Ridge model to a range of $\\alpha$ values and plot the RMSE using the cross validated error function you created above.\n",
    "* Use $$[0.005, 0.05, 0.1, 0.3, 1, 3, 5, 10, 15, 30, 80]$$ as the range of alphas.\n",
    "* Then repeat the fitting of the Ridge models using the range of $\\alpha$ values from the prior section. Compare the results."
   ]
  },
  {
   "cell_type": "markdown",
   "metadata": {},
   "source": [
    "Now for the `RidgeCV` method. It's not possible to get the alpha values for the models that weren't selected, unfortunately. The resulting error values and $\\alpha$ values are very similar to those obtained above."
   ]
  },
  {
   "cell_type": "code",
   "execution_count": 22,
   "metadata": {
    "ExecuteTime": {
     "end_time": "2017-02-21T09:48:27.914740",
     "start_time": "2017-02-21T09:48:27.293957"
    },
    "jupyter": {
     "outputs_hidden": false
    }
   },
   "outputs": [
    {
     "name": "stdout",
     "output_type": "stream",
     "text": [
      "15.0 32169.176205672495\n"
     ]
    }
   ],
   "source": [
    "from sklearn.linear_model import RidgeCV\n",
    "\n",
    "alphas = [0.005, 0.05, 0.1, 0.3, 1, 3, 5, 10, 15, 30, 80]\n",
    "\n",
    "ridgeCV = RidgeCV(alphas=alphas, \n",
    "                  cv=4).fit(X_train, y_train)\n",
    "\n",
    "ridgeCV_rmse = rmse(y_test, ridgeCV.predict(X_test))\n",
    "\n",
    "print(ridgeCV.alpha_, ridgeCV_rmse)"
   ]
  },
  {
   "cell_type": "markdown",
   "metadata": {},
   "source": [
    "## Question 7\n",
    "\n",
    "\n",
    "Much like the `RidgeCV` function, there is also a `LassoCV` function that uses an L1 regularization function and cross-validation. L1 regularization will selectively shrink some coefficients, effectively performing feature elimination.\n",
    "\n",
    "The `LassoCV` function does not allow the scoring function to be set. However, the custom error function (`rmse`) created above can be used to evaluate the error on the final model.\n",
    "\n",
    "Similarly, there is also an elastic net function with cross validation, `ElasticNetCV`, which is a combination of L2 and L1 regularization.\n",
    "\n",
    "* Fit a Lasso model using cross validation and determine the optimum value for $\\alpha$ and the RMSE using the function created above. Note that the magnitude of $\\alpha$ may be different from the Ridge model.\n",
    "* Repeat this with the Elastic net model.\n",
    "* Compare the results via table and/or plot.\n",
    "\n",
    "Use the following alphas:  \n",
    "`[1e-5, 5e-5, 0.0001, 0.0005]`"
   ]
  },
  {
   "cell_type": "code",
   "execution_count": 23,
   "metadata": {
    "ExecuteTime": {
     "end_time": "2017-02-21T09:50:10.797247",
     "start_time": "2017-02-21T09:50:09.006978"
    },
    "jupyter": {
     "outputs_hidden": false
    }
   },
   "outputs": [
    {
     "name": "stdout",
     "output_type": "stream",
     "text": [
      "0.0005 39257.39399144494\n"
     ]
    }
   ],
   "source": [
    "from sklearn.linear_model import LassoCV\n",
    "\n",
    "alphas2 = np.array([1e-5, 5e-5, 0.0001, 0.0005])\n",
    "\n",
    "lassoCV = LassoCV(alphas=alphas2,\n",
    "                  max_iter=5e4,\n",
    "                  cv=3).fit(X_train, y_train)\n",
    "\n",
    "lassoCV_rmse = rmse(y_test, lassoCV.predict(X_test))\n",
    "\n",
    "print(lassoCV.alpha_, lassoCV_rmse)  # Lasso is slower"
   ]
  },
  {
   "cell_type": "markdown",
   "metadata": {},
   "source": [
    "We can determine how many of these features remain non-zero."
   ]
  },
  {
   "cell_type": "code",
   "execution_count": 24,
   "metadata": {
    "ExecuteTime": {
     "end_time": "2017-02-21T09:50:13.053851",
     "start_time": "2017-02-21T09:50:13.047466"
    },
    "jupyter": {
     "outputs_hidden": false
    }
   },
   "outputs": [
    {
     "name": "stdout",
     "output_type": "stream",
     "text": [
      "Of 294 coefficients, 272 are non-zero with Lasso.\n"
     ]
    }
   ],
   "source": [
    "print('Of {} coefficients, {} are non-zero with Lasso.'.format(len(lassoCV.coef_), \n",
    "                                                               len(lassoCV.coef_.nonzero()[0])))"
   ]
  },
  {
   "cell_type": "markdown",
   "metadata": {
    "ExecuteTime": {
     "end_time": "2017-02-16T12:03:06.013488",
     "start_time": "2017-02-16T12:03:06.007159"
    },
    "run_control": {
     "marked": true
    }
   },
   "source": [
    "Now try the elastic net, with the same alphas as in Lasso, and l1_ratios between 0.1 and 0.9"
   ]
  },
  {
   "cell_type": "code",
   "execution_count": 25,
   "metadata": {
    "ExecuteTime": {
     "end_time": "2017-02-21T09:51:07.592747",
     "start_time": "2017-02-21T09:50:38.683133"
    },
    "jupyter": {
     "outputs_hidden": false
    },
    "scrolled": true
   },
   "outputs": [
    {
     "name": "stdout",
     "output_type": "stream",
     "text": [
      "0.0005 0.1 35001.23429607458\n"
     ]
    }
   ],
   "source": [
    "from sklearn.linear_model import ElasticNetCV\n",
    "\n",
    "l1_ratios = np.linspace(0.1, 0.9, 9)\n",
    "\n",
    "elasticNetCV = ElasticNetCV(alphas=alphas2, \n",
    "                            l1_ratio=l1_ratios,\n",
    "                            max_iter=1e4).fit(X_train, y_train)\n",
    "elasticNetCV_rmse = rmse(y_test, elasticNetCV.predict(X_test))\n",
    "\n",
    "print(elasticNetCV.alpha_, elasticNetCV.l1_ratio_, elasticNetCV_rmse)"
   ]
  },
  {
   "cell_type": "markdown",
   "metadata": {},
   "source": [
    "Comparing the RMSE calculation from all models is easiest in a table."
   ]
  },
  {
   "cell_type": "code",
   "execution_count": 26,
   "metadata": {
    "ExecuteTime": {
     "end_time": "2017-02-21T09:52:29.062678",
     "start_time": "2017-02-21T09:52:28.998572"
    },
    "jupyter": {
     "outputs_hidden": false
    }
   },
   "outputs": [
    {
     "data": {
      "text/html": [
       "<div>\n",
       "<style scoped>\n",
       "    .dataframe tbody tr th:only-of-type {\n",
       "        vertical-align: middle;\n",
       "    }\n",
       "\n",
       "    .dataframe tbody tr th {\n",
       "        vertical-align: top;\n",
       "    }\n",
       "\n",
       "    .dataframe thead th {\n",
       "        text-align: right;\n",
       "    }\n",
       "</style>\n",
       "<table border=\"1\" class=\"dataframe\">\n",
       "  <thead>\n",
       "    <tr style=\"text-align: right;\">\n",
       "      <th></th>\n",
       "      <th>RMSE</th>\n",
       "    </tr>\n",
       "  </thead>\n",
       "  <tbody>\n",
       "    <tr>\n",
       "      <th>Linear</th>\n",
       "      <td>306369.683423</td>\n",
       "    </tr>\n",
       "    <tr>\n",
       "      <th>Ridge</th>\n",
       "      <td>32169.176206</td>\n",
       "    </tr>\n",
       "    <tr>\n",
       "      <th>Lasso</th>\n",
       "      <td>39257.393991</td>\n",
       "    </tr>\n",
       "    <tr>\n",
       "      <th>ElasticNet</th>\n",
       "      <td>35001.234296</td>\n",
       "    </tr>\n",
       "  </tbody>\n",
       "</table>\n",
       "</div>"
      ],
      "text/plain": [
       "                     RMSE\n",
       "Linear      306369.683423\n",
       "Ridge        32169.176206\n",
       "Lasso        39257.393991\n",
       "ElasticNet   35001.234296"
      ]
     },
     "execution_count": 26,
     "metadata": {},
     "output_type": "execute_result"
    }
   ],
   "source": [
    "rmse_vals = [linearRegression_rmse, ridgeCV_rmse, lassoCV_rmse, elasticNetCV_rmse]\n",
    "\n",
    "labels = ['Linear', 'Ridge', 'Lasso', 'ElasticNet']\n",
    "\n",
    "rmse_df = pd.Series(rmse_vals, index=labels).to_frame()\n",
    "rmse_df.rename(columns={0: 'RMSE'}, inplace=1)\n",
    "rmse_df"
   ]
  },
  {
   "cell_type": "markdown",
   "metadata": {},
   "source": [
    "We can also make a plot of actual vs predicted housing prices as before."
   ]
  },
  {
   "cell_type": "code",
   "execution_count": 27,
   "metadata": {
    "ExecuteTime": {
     "end_time": "2017-02-21T09:53:54.142116",
     "start_time": "2017-02-21T09:53:53.857081"
    },
    "jupyter": {
     "outputs_hidden": false
    }
   },
   "outputs": [
    {
     "data": {
      "image/png": "[encoded data removed]",
      "text/plain": [
       "<Figure size 432x432 with 1 Axes>"
      ]
     },
     "metadata": {},
     "output_type": "display_data"
    }
   ],
   "source": [
    "f = plt.figure(figsize=(6,6))\n",
    "ax = plt.axes()\n",
    "\n",
    "labels = ['Ridge', 'Lasso', 'ElasticNet']\n",
    "\n",
    "models = [ridgeCV, lassoCV, elasticNetCV]\n",
    "\n",
    "for mod, lab in zip(models, labels):\n",
    "    ax.plot(y_test, mod.predict(X_test), \n",
    "             marker='o', ls='', ms=3.0, label=lab)\n",
    "\n",
    "leg = plt.legend(frameon=True)\n",
    "leg.get_frame().set_edgecolor('black')\n",
    "leg.get_frame().set_linewidth(1.0)\n",
    "\n",
    "ax.set(xlabel='Actual Price', \n",
    "       ylabel='Predicted Price', \n",
    "       title='Linear Regression Results');"
   ]
  },
  {
   "cell_type": "markdown",
   "metadata": {},
   "source": [
    "## Question 8\n",
    "\n",
    "Let's explore Stochastic gradient descent in this exercise.  \n",
    "Recall that Linear models in general are sensitive to scaling.\n",
    "However, SGD is *very* sensitive to scaling.  \n",
    "Moreover, a high value of learning rate can cause the algorithm to diverge, whereas a too low value may take too long to converge.\n",
    "\n",
    "* Fit a stochastic gradient descent model without a regularization penalty (the relevant parameter is `penalty`).\n",
    "* Now fit stochastic gradient descent models with each of the three penalties (L2, L1, Elastic Net) using the parameter values determined by cross validation above. \n",
    "* Do not scale the data before fitting the model.  \n",
    "* Compare the results to those obtained without using stochastic gradient descent."
   ]
  },
  {
   "cell_type": "code",
   "execution_count": 28,
   "metadata": {
    "jupyter": {
     "outputs_hidden": false
    }
   },
   "outputs": [
    {
     "data": {
      "text/html": [
       "<div>\n",
       "<style scoped>\n",
       "    .dataframe tbody tr th:only-of-type {\n",
       "        vertical-align: middle;\n",
       "    }\n",
       "\n",
       "    .dataframe tbody tr th {\n",
       "        vertical-align: top;\n",
       "    }\n",
       "\n",
       "    .dataframe thead th {\n",
       "        text-align: right;\n",
       "    }\n",
       "</style>\n",
       "<table border=\"1\" class=\"dataframe\">\n",
       "  <thead>\n",
       "    <tr style=\"text-align: right;\">\n",
       "      <th></th>\n",
       "      <th>RMSE</th>\n",
       "      <th>RMSE-SGD</th>\n",
       "    </tr>\n",
       "  </thead>\n",
       "  <tbody>\n",
       "    <tr>\n",
       "      <th>Linear</th>\n",
       "      <td>306369.683423</td>\n",
       "      <td>5.373943e+15</td>\n",
       "    </tr>\n",
       "    <tr>\n",
       "      <th>Ridge</th>\n",
       "      <td>32169.176206</td>\n",
       "      <td>1.338566e+16</td>\n",
       "    </tr>\n",
       "    <tr>\n",
       "      <th>Lasso</th>\n",
       "      <td>39257.393991</td>\n",
       "      <td>1.081804e+16</td>\n",
       "    </tr>\n",
       "    <tr>\n",
       "      <th>ElasticNet</th>\n",
       "      <td>35001.234296</td>\n",
       "      <td>9.481472e+15</td>\n",
       "    </tr>\n",
       "  </tbody>\n",
       "</table>\n",
       "</div>"
      ],
      "text/plain": [
       "                     RMSE      RMSE-SGD\n",
       "Linear      306369.683423  5.373943e+15\n",
       "Ridge        32169.176206  1.338566e+16\n",
       "Lasso        39257.393991  1.081804e+16\n",
       "ElasticNet   35001.234296  9.481472e+15"
      ]
     },
     "execution_count": 28,
     "metadata": {},
     "output_type": "execute_result"
    }
   ],
   "source": [
    "# Import SGDRegressor and prepare the parameters\n",
    "\n",
    "from sklearn.linear_model import SGDRegressor\n",
    "\n",
    "model_parameters_dict = {\n",
    "    'Linear': {'penalty': 'none'},\n",
    "    'Lasso': {'penalty': 'l2',\n",
    "           'alpha': lassoCV.alpha_},\n",
    "    'Ridge': {'penalty': 'l1',\n",
    "           'alpha': ridgeCV_rmse},\n",
    "    'ElasticNet': {'penalty': 'elasticnet', \n",
    "                   'alpha': elasticNetCV.alpha_,\n",
    "                   'l1_ratio': elasticNetCV.l1_ratio_}\n",
    "}\n",
    "\n",
    "new_rmses = {}\n",
    "for modellabel, parameters in model_parameters_dict.items():\n",
    "    # following notation passes the dict items as arguments\n",
    "    SGD = SGDRegressor(**parameters)\n",
    "    SGD.fit(X_train, y_train)\n",
    "    new_rmses[modellabel] = rmse(y_test, SGD.predict(X_test))\n",
    "\n",
    "rmse_df['RMSE-SGD'] = pd.Series(new_rmses)\n",
    "rmse_df"
   ]
  },
  {
   "cell_type": "markdown",
   "metadata": {},
   "source": [
    "Notice how high the error values are! The algorithm is diverging. This can be due to scaling and/or learning rate being too high. Let's adjust the learning rate and see what happens.\n",
    "\n",
    "* Pass in `eta0=1e-7` when creating the instance of `SGDClassifier`.\n",
    "* Re-compute the errors for all the penalties and compare."
   ]
  },
  {
   "cell_type": "code",
   "execution_count": 29,
   "metadata": {
    "jupyter": {
     "outputs_hidden": false
    }
   },
   "outputs": [
    {
     "data": {
      "text/html": [
       "<div>\n",
       "<style scoped>\n",
       "    .dataframe tbody tr th:only-of-type {\n",
       "        vertical-align: middle;\n",
       "    }\n",
       "\n",
       "    .dataframe tbody tr th {\n",
       "        vertical-align: top;\n",
       "    }\n",
       "\n",
       "    .dataframe thead th {\n",
       "        text-align: right;\n",
       "    }\n",
       "</style>\n",
       "<table border=\"1\" class=\"dataframe\">\n",
       "  <thead>\n",
       "    <tr style=\"text-align: right;\">\n",
       "      <th></th>\n",
       "      <th>RMSE</th>\n",
       "      <th>RMSE-SGD</th>\n",
       "      <th>RMSE-SGD-learningrate</th>\n",
       "    </tr>\n",
       "  </thead>\n",
       "  <tbody>\n",
       "    <tr>\n",
       "      <th>Linear</th>\n",
       "      <td>306369.683423</td>\n",
       "      <td>5.373943e+15</td>\n",
       "      <td>74739.207394</td>\n",
       "    </tr>\n",
       "    <tr>\n",
       "      <th>Ridge</th>\n",
       "      <td>32169.176206</td>\n",
       "      <td>1.338566e+16</td>\n",
       "      <td>74063.551430</td>\n",
       "    </tr>\n",
       "    <tr>\n",
       "      <th>Lasso</th>\n",
       "      <td>39257.393991</td>\n",
       "      <td>1.081804e+16</td>\n",
       "      <td>74122.130215</td>\n",
       "    </tr>\n",
       "    <tr>\n",
       "      <th>ElasticNet</th>\n",
       "      <td>35001.234296</td>\n",
       "      <td>9.481472e+15</td>\n",
       "      <td>77144.492383</td>\n",
       "    </tr>\n",
       "  </tbody>\n",
       "</table>\n",
       "</div>"
      ],
      "text/plain": [
       "                     RMSE      RMSE-SGD  RMSE-SGD-learningrate\n",
       "Linear      306369.683423  5.373943e+15           74739.207394\n",
       "Ridge        32169.176206  1.338566e+16           74063.551430\n",
       "Lasso        39257.393991  1.081804e+16           74122.130215\n",
       "ElasticNet   35001.234296  9.481472e+15           77144.492383"
      ]
     },
     "execution_count": 29,
     "metadata": {},
     "output_type": "execute_result"
    }
   ],
   "source": [
    "# Import SGDRegressor and prepare the parameters\n",
    "\n",
    "from sklearn.linear_model import SGDRegressor\n",
    "\n",
    "model_parameters_dict = {\n",
    "    'Linear': {'penalty': 'none'},\n",
    "    'Lasso': {'penalty': 'l2',\n",
    "           'alpha': lassoCV.alpha_},\n",
    "    'Ridge': {'penalty': 'l1',\n",
    "           'alpha': ridgeCV_rmse},\n",
    "    'ElasticNet': {'penalty': 'elasticnet', \n",
    "                   'alpha': elasticNetCV.alpha_,\n",
    "                   'l1_ratio': elasticNetCV.l1_ratio_}\n",
    "}\n",
    "\n",
    "new_rmses = {}\n",
    "for modellabel, parameters in model_parameters_dict.items():\n",
    "    # following notation passes the dict items as arguments\n",
    "    SGD = SGDRegressor(eta0=1e-7, **parameters)\n",
    "    SGD.fit(X_train, y_train)\n",
    "    new_rmses[modellabel] = rmse(y_test, SGD.predict(X_test))\n",
    "\n",
    "rmse_df['RMSE-SGD-learningrate'] = pd.Series(new_rmses)\n",
    "rmse_df"
   ]
  },
  {
   "cell_type": "markdown",
   "metadata": {},
   "source": [
    "Now let's scale our training data and try again.\n",
    "\n",
    "* Fit a `MinMaxScaler` to `X_train` create a variable `X_train_scaled`.\n",
    "* Using the scaler, transform `X_test` and create a variable `X_test_scaled`. \n",
    "* Apply the same versions of SGD to them and compare the results. Don't pass in a eta0 this time."
   ]
  },
  {
   "cell_type": "code",
   "execution_count": 30,
   "metadata": {
    "jupyter": {
     "outputs_hidden": false
    }
   },
   "outputs": [
    {
     "data": {
      "text/html": [
       "<div>\n",
       "<style scoped>\n",
       "    .dataframe tbody tr th:only-of-type {\n",
       "        vertical-align: middle;\n",
       "    }\n",
       "\n",
       "    .dataframe tbody tr th {\n",
       "        vertical-align: top;\n",
       "    }\n",
       "\n",
       "    .dataframe thead th {\n",
       "        text-align: right;\n",
       "    }\n",
       "</style>\n",
       "<table border=\"1\" class=\"dataframe\">\n",
       "  <thead>\n",
       "    <tr style=\"text-align: right;\">\n",
       "      <th></th>\n",
       "      <th>RMSE</th>\n",
       "      <th>RMSE-SGD</th>\n",
       "      <th>RMSE-SGD-learningrate</th>\n",
       "      <th>RMSE-SGD-scaled</th>\n",
       "    </tr>\n",
       "  </thead>\n",
       "  <tbody>\n",
       "    <tr>\n",
       "      <th>Linear</th>\n",
       "      <td>306369.683423</td>\n",
       "      <td>5.373943e+15</td>\n",
       "      <td>74739.207394</td>\n",
       "      <td>32779.623093</td>\n",
       "    </tr>\n",
       "    <tr>\n",
       "      <th>Ridge</th>\n",
       "      <td>32169.176206</td>\n",
       "      <td>1.338566e+16</td>\n",
       "      <td>74063.551430</td>\n",
       "      <td>77770.528817</td>\n",
       "    </tr>\n",
       "    <tr>\n",
       "      <th>Lasso</th>\n",
       "      <td>39257.393991</td>\n",
       "      <td>1.081804e+16</td>\n",
       "      <td>74122.130215</td>\n",
       "      <td>32747.083515</td>\n",
       "    </tr>\n",
       "    <tr>\n",
       "      <th>ElasticNet</th>\n",
       "      <td>35001.234296</td>\n",
       "      <td>9.481472e+15</td>\n",
       "      <td>77144.492383</td>\n",
       "      <td>33013.501989</td>\n",
       "    </tr>\n",
       "  </tbody>\n",
       "</table>\n",
       "</div>"
      ],
      "text/plain": [
       "                     RMSE      RMSE-SGD  RMSE-SGD-learningrate  \\\n",
       "Linear      306369.683423  5.373943e+15           74739.207394   \n",
       "Ridge        32169.176206  1.338566e+16           74063.551430   \n",
       "Lasso        39257.393991  1.081804e+16           74122.130215   \n",
       "ElasticNet   35001.234296  9.481472e+15           77144.492383   \n",
       "\n",
       "            RMSE-SGD-scaled  \n",
       "Linear         32779.623093  \n",
       "Ridge          77770.528817  \n",
       "Lasso          32747.083515  \n",
       "ElasticNet     33013.501989  "
      ]
     },
     "execution_count": 30,
     "metadata": {},
     "output_type": "execute_result"
    }
   ],
   "source": [
    "from sklearn.preprocessing import MinMaxScaler\n",
    "\n",
    "scaler = MinMaxScaler()\n",
    "X_train_scaled = scaler.fit_transform(X_train)\n",
    "X_test_scaled = scaler.transform(X_test)\n",
    "\n",
    "new_rmses = {}\n",
    "for modellabel, parameters in model_parameters_dict.items():\n",
    "    # following notation passes the dict items as arguments\n",
    "    SGD = SGDRegressor(**parameters)\n",
    "    SGD.fit(X_train_scaled, y_train)\n",
    "    new_rmses[modellabel] = rmse(y_test, SGD.predict(X_test_scaled))\n",
    "\n",
    "rmse_df['RMSE-SGD-scaled'] = pd.Series(new_rmses)\n",
    "rmse_df"
   ]
  },
  {
   "cell_type": "code",
   "execution_count": 31,
   "metadata": {
    "jupyter": {
     "outputs_hidden": false
    }
   },
   "outputs": [
    {
     "data": {
      "text/html": [
       "<div>\n",
       "<style scoped>\n",
       "    .dataframe tbody tr th:only-of-type {\n",
       "        vertical-align: middle;\n",
       "    }\n",
       "\n",
       "    .dataframe tbody tr th {\n",
       "        vertical-align: top;\n",
       "    }\n",
       "\n",
       "    .dataframe thead th {\n",
       "        text-align: right;\n",
       "    }\n",
       "</style>\n",
       "<table border=\"1\" class=\"dataframe\">\n",
       "  <thead>\n",
       "    <tr style=\"text-align: right;\">\n",
       "      <th></th>\n",
       "      <th>RMSE</th>\n",
       "      <th>RMSE-SGD</th>\n",
       "      <th>RMSE-SGD-learningrate</th>\n",
       "      <th>RMSE-SGD-scaled</th>\n",
       "    </tr>\n",
       "  </thead>\n",
       "  <tbody>\n",
       "    <tr>\n",
       "      <th>Linear</th>\n",
       "      <td>306369.683423</td>\n",
       "      <td>5.373943e+15</td>\n",
       "      <td>74739.207394</td>\n",
       "      <td>32965.740930</td>\n",
       "    </tr>\n",
       "    <tr>\n",
       "      <th>Ridge</th>\n",
       "      <td>32169.176206</td>\n",
       "      <td>1.338566e+16</td>\n",
       "      <td>74063.551430</td>\n",
       "      <td>77786.028011</td>\n",
       "    </tr>\n",
       "    <tr>\n",
       "      <th>Lasso</th>\n",
       "      <td>39257.393991</td>\n",
       "      <td>1.081804e+16</td>\n",
       "      <td>74122.130215</td>\n",
       "      <td>32697.640947</td>\n",
       "    </tr>\n",
       "    <tr>\n",
       "      <th>ElasticNet</th>\n",
       "      <td>35001.234296</td>\n",
       "      <td>9.481472e+15</td>\n",
       "      <td>77144.492383</td>\n",
       "      <td>32740.254462</td>\n",
       "    </tr>\n",
       "  </tbody>\n",
       "</table>\n",
       "</div>"
      ],
      "text/plain": [
       "                     RMSE      RMSE-SGD  RMSE-SGD-learningrate  \\\n",
       "Linear      306369.683423  5.373943e+15           74739.207394   \n",
       "Ridge        32169.176206  1.338566e+16           74063.551430   \n",
       "Lasso        39257.393991  1.081804e+16           74122.130215   \n",
       "ElasticNet   35001.234296  9.481472e+15           77144.492383   \n",
       "\n",
       "            RMSE-SGD-scaled  \n",
       "Linear         32965.740930  \n",
       "Ridge          77786.028011  \n",
       "Lasso          32697.640947  \n",
       "ElasticNet     32740.254462  "
      ]
     },
     "execution_count": 31,
     "metadata": {},
     "output_type": "execute_result"
    }
   ],
   "source": [
    "from sklearn.preprocessing import MinMaxScaler\n",
    "\n",
    "scaler = MinMaxScaler()\n",
    "X_train_scaled = scaler.fit_transform(X_train)\n",
    "X_test_scaled = scaler.transform(X_test)\n",
    "\n",
    "new_rmses = {}\n",
    "for modellabel, parameters in model_parameters_dict.items():\n",
    "    # following notation passes the dict items as arguments\n",
    "    SGD = SGDRegressor(**parameters)\n",
    "    SGD.fit(X_train_scaled, y_train)\n",
    "    new_rmses[modellabel] = rmse(y_test, SGD.predict(X_test_scaled))\n",
    "\n",
    "rmse_df['RMSE-SGD-scaled'] = pd.Series(new_rmses)\n",
    "rmse_df"
   ]
  },
  {
   "cell_type": "markdown",
   "metadata": {},
   "source": [
    "---\n",
    "### Machine Learning Foundation (C) 2020 IBM Corporation"
   ]
  }
 ],
 "metadata": {
  "kernelspec": {
   "display_name": "Python 3.7",
   "language": "python",
   "name": "python3"
  },
  "language_info": {
   "codemirror_mode": {
    "name": "ipython",
    "version": 3
   },
   "file_extension": ".py",
   "mimetype": "text/x-python",
   "name": "python",
   "nbconvert_exporter": "python",
   "pygments_lexer": "ipython3",
   "version": "3.7.10"
  }
 },
 "nbformat": 4,
 "nbformat_minor": 4
}
